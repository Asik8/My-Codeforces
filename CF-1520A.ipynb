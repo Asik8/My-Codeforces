{
 "cells": [
  {
   "cell_type": "code",
   "execution_count": null,
   "metadata": {},
   "outputs": [],
   "source": [
    "# In c Language:\n",
    "#include<stdio.h>\n",
    "#include<string.h>\n",
    "#include<ctype.h>\n",
    "\n",
    "int main()\n",
    "{\n",
    "    int t;\n",
    "    scanf(\"%d\",&t);\n",
    "\n",
    "    for (int l=0;l<t;l++)\n",
    "    {\n",
    "        int a;\n",
    "        scanf(\"%d\",&a);\n",
    "        char arr[a];\n",
    "        scanf(\"%s\",arr);\n",
    "\n",
    "        int ch[26] = {0};\n",
    "\n",
    "        for(int i=0;i<a-1;i++)\n",
    "        {\n",
    "            if(arr[i] != arr[i+1])\n",
    "            {\n",
    "                ch[arr[i]-'A'] += 1;\n",
    "            }\n",
    "        }\n",
    "        if(ch[arr[a-1]-'A']!=0)\n",
    "        {\n",
    "            ch[arr[a-1]-'A'] += 1;\n",
    "        }\n",
    "        int c=0;\n",
    "        for(int i=0;i<26;i++)\n",
    "        {\n",
    "            if(ch[i]>1)\n",
    "            {\n",
    "                printf(\"NO\\n\");\n",
    "                c++;\n",
    "                break;\n",
    "            }\n",
    "        }\n",
    "\n",
    "        if(c==0)\n",
    "        {\n",
    "            printf(\"YES\\n\");\n",
    "        }\n",
    "    }\n",
    "\n",
    "    return 0;\n",
    "}"
   ]
  },
  {
   "cell_type": "code",
   "execution_count": 1,
   "metadata": {},
   "outputs": [
    {
     "name": "stdout",
     "output_type": "stream",
     "text": [
      "NO\n",
      "NO\n",
      "YES\n",
      "YES\n",
      "YES\n"
     ]
    }
   ],
   "source": [
    "t =  int(input())\n",
    "\n",
    "for _ in range(t):\n",
    "    a = int(input())\n",
    "    s = input() \n",
    "    \n",
    "    ch = [0]*26\n",
    "    \n",
    "    for i in range(a-1):\n",
    "        if s[i] != s[i+1]:\n",
    "            ch[ord(s[i])-ord('A')]+=1\n",
    "    \n",
    "    if ch[ord(s[a-1])-ord('A')] != 0:\n",
    "        ch[ord(s[a-1])-ord('A')]+=1\n",
    "        \n",
    "    if any(count > 1 for count in ch):\n",
    "        print(\"NO\")\n",
    "    else:\n",
    "        print(\"YES\")"
   ]
  }
 ],
 "metadata": {
  "kernelspec": {
   "display_name": "Python 3",
   "language": "python",
   "name": "python3"
  },
  "language_info": {
   "codemirror_mode": {
    "name": "ipython",
    "version": 3
   },
   "file_extension": ".py",
   "mimetype": "text/x-python",
   "name": "python",
   "nbconvert_exporter": "python",
   "pygments_lexer": "ipython3",
   "version": "3.12.1"
  }
 },
 "nbformat": 4,
 "nbformat_minor": 2
}
